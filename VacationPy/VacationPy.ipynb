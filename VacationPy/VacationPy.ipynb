{
 "cells": [
  {
   "cell_type": "markdown",
   "metadata": {},
   "source": [
    "# VacationPy\n",
    "----\n",
    "\n",
    "#### Note\n",
    "* Keep an eye on your API usage. Use https://developers.google.com/maps/reporting/gmp-reporting as reference for how to monitor your usage and billing.\n",
    "\n",
    "* Instructions have been included for each segment. You do not have to follow them exactly, but they are included to help you think through the steps."
   ]
  },
  {
   "cell_type": "code",
   "execution_count": 43,
   "metadata": {},
   "outputs": [],
   "source": [
    "# Dependencies and Setup\n",
    "import matplotlib.pyplot as plt\n",
    "import pandas as pd\n",
    "import numpy as np\n",
    "import requests\n",
    "import gmaps\n",
    "import os\n",
    "\n",
    "# Import API key\n",
    "from g_api_keys import g_key"
   ]
  },
  {
   "cell_type": "markdown",
   "metadata": {},
   "source": [
    "### Store Part I results into DataFrame\n",
    "* Load the csv exported in Part I to a DataFrame"
   ]
  },
  {
   "cell_type": "code",
   "execution_count": 44,
   "metadata": {},
   "outputs": [
    {
     "output_type": "execute_result",
     "data": {
      "text/plain": [
       "            City      Lat       Lng  Max Temp  Humidity  Cloudiness  \\\n",
       "0          vagur  61.4732   -6.8119     43.21        71         100   \n",
       "1     chokurdakh  70.6333  147.9167      4.89        91          90   \n",
       "2          bluff -46.6000  168.3333     57.00        74         100   \n",
       "3         kalabo -14.9700   22.6814     62.35        62           5   \n",
       "4         bethel  41.3712  -73.4140     39.99        54          55   \n",
       "..           ...      ...       ...       ...       ...         ...   \n",
       "564  tsarychanka  48.9370   34.4786     45.91        89           3   \n",
       "565     san blas  21.5167 -105.2667     82.40        44          75   \n",
       "566  kantunilkin  21.0917  -87.4500     80.60        74          40   \n",
       "567       hirara  24.8000  125.2833     75.20        88          75   \n",
       "568   sungairaya   0.7000  108.9000     82.71        74          82   \n",
       "\n",
       "     Wind Speed Country        Date  \n",
       "0          3.87      FO  1619138020  \n",
       "1          5.70      RU  1619138020  \n",
       "2          8.01      NZ  1619137761  \n",
       "3          5.19      ZM  1619138021  \n",
       "4          5.01      US  1619137915  \n",
       "..          ...     ...         ...  \n",
       "564        8.46      UA  1619138482  \n",
       "565        9.22      MX  1619138483  \n",
       "566        8.05      MX  1619138483  \n",
       "567       18.41      JP  1619138228  \n",
       "568        4.90      ID  1619138484  \n",
       "\n",
       "[569 rows x 9 columns]"
      ],
      "text/html": "<div>\n<style scoped>\n    .dataframe tbody tr th:only-of-type {\n        vertical-align: middle;\n    }\n\n    .dataframe tbody tr th {\n        vertical-align: top;\n    }\n\n    .dataframe thead th {\n        text-align: right;\n    }\n</style>\n<table border=\"1\" class=\"dataframe\">\n  <thead>\n    <tr style=\"text-align: right;\">\n      <th></th>\n      <th>City</th>\n      <th>Lat</th>\n      <th>Lng</th>\n      <th>Max Temp</th>\n      <th>Humidity</th>\n      <th>Cloudiness</th>\n      <th>Wind Speed</th>\n      <th>Country</th>\n      <th>Date</th>\n    </tr>\n  </thead>\n  <tbody>\n    <tr>\n      <th>0</th>\n      <td>vagur</td>\n      <td>61.4732</td>\n      <td>-6.8119</td>\n      <td>43.21</td>\n      <td>71</td>\n      <td>100</td>\n      <td>3.87</td>\n      <td>FO</td>\n      <td>1619138020</td>\n    </tr>\n    <tr>\n      <th>1</th>\n      <td>chokurdakh</td>\n      <td>70.6333</td>\n      <td>147.9167</td>\n      <td>4.89</td>\n      <td>91</td>\n      <td>90</td>\n      <td>5.70</td>\n      <td>RU</td>\n      <td>1619138020</td>\n    </tr>\n    <tr>\n      <th>2</th>\n      <td>bluff</td>\n      <td>-46.6000</td>\n      <td>168.3333</td>\n      <td>57.00</td>\n      <td>74</td>\n      <td>100</td>\n      <td>8.01</td>\n      <td>NZ</td>\n      <td>1619137761</td>\n    </tr>\n    <tr>\n      <th>3</th>\n      <td>kalabo</td>\n      <td>-14.9700</td>\n      <td>22.6814</td>\n      <td>62.35</td>\n      <td>62</td>\n      <td>5</td>\n      <td>5.19</td>\n      <td>ZM</td>\n      <td>1619138021</td>\n    </tr>\n    <tr>\n      <th>4</th>\n      <td>bethel</td>\n      <td>41.3712</td>\n      <td>-73.4140</td>\n      <td>39.99</td>\n      <td>54</td>\n      <td>55</td>\n      <td>5.01</td>\n      <td>US</td>\n      <td>1619137915</td>\n    </tr>\n    <tr>\n      <th>...</th>\n      <td>...</td>\n      <td>...</td>\n      <td>...</td>\n      <td>...</td>\n      <td>...</td>\n      <td>...</td>\n      <td>...</td>\n      <td>...</td>\n      <td>...</td>\n    </tr>\n    <tr>\n      <th>564</th>\n      <td>tsarychanka</td>\n      <td>48.9370</td>\n      <td>34.4786</td>\n      <td>45.91</td>\n      <td>89</td>\n      <td>3</td>\n      <td>8.46</td>\n      <td>UA</td>\n      <td>1619138482</td>\n    </tr>\n    <tr>\n      <th>565</th>\n      <td>san blas</td>\n      <td>21.5167</td>\n      <td>-105.2667</td>\n      <td>82.40</td>\n      <td>44</td>\n      <td>75</td>\n      <td>9.22</td>\n      <td>MX</td>\n      <td>1619138483</td>\n    </tr>\n    <tr>\n      <th>566</th>\n      <td>kantunilkin</td>\n      <td>21.0917</td>\n      <td>-87.4500</td>\n      <td>80.60</td>\n      <td>74</td>\n      <td>40</td>\n      <td>8.05</td>\n      <td>MX</td>\n      <td>1619138483</td>\n    </tr>\n    <tr>\n      <th>567</th>\n      <td>hirara</td>\n      <td>24.8000</td>\n      <td>125.2833</td>\n      <td>75.20</td>\n      <td>88</td>\n      <td>75</td>\n      <td>18.41</td>\n      <td>JP</td>\n      <td>1619138228</td>\n    </tr>\n    <tr>\n      <th>568</th>\n      <td>sungairaya</td>\n      <td>0.7000</td>\n      <td>108.9000</td>\n      <td>82.71</td>\n      <td>74</td>\n      <td>82</td>\n      <td>4.90</td>\n      <td>ID</td>\n      <td>1619138484</td>\n    </tr>\n  </tbody>\n</table>\n<p>569 rows × 9 columns</p>\n</div>"
     },
     "metadata": {},
     "execution_count": 44
    }
   ],
   "source": [
    "# Load CSV file\n",
    "csv_file = \"/Users/ashleypatricia/Documents/GitHub/python-api-challenge/WeatherPy/city data.csv\"\n",
    "\n",
    "# Assign dataframe \n",
    "weather_df = pd.read_csv(csv_file)\n",
    "weather_df"
   ]
  },
  {
   "cell_type": "markdown",
   "metadata": {},
   "source": [
    "### Humidity Heatmap\n",
    "* Configure gmaps.\n",
    "* Use the Lat and Lng as locations and Humidity as the weight.\n",
    "* Add Heatmap layer to map."
   ]
  },
  {
   "cell_type": "code",
   "execution_count": 45,
   "metadata": {},
   "outputs": [],
   "source": [
    "#Configure gmaps\n",
    "gmaps.configure(api_key=g_key)"
   ]
  },
  {
   "cell_type": "code",
   "execution_count": 46,
   "metadata": {},
   "outputs": [
    {
     "output_type": "display_data",
     "data": {
      "text/plain": "Figure(layout=FigureLayout(height='420px'))",
      "application/vnd.jupyter.widget-view+json": {
       "version_major": 2,
       "version_minor": 0,
       "model_id": "0658ee8604b24ea5a5b17b5b8741665c"
      }
     },
     "metadata": {}
    }
   ],
   "source": [
    "# Use the Lat and Lng as locations \n",
    "locations = weather_df[[\"Lat\", \"Lng\"]]\n",
    "\n",
    "# Use humidity as weight \n",
    "humidity = weather_df[\"Humidity\"].astype(float)\n",
    "\n",
    "# Plot heatmap\n",
    "fig = gmaps.figure()\n",
    "\n",
    "# Add heat layer \n",
    "heat_layer = gmaps.heatmap_layer(locations, weights=humidity, dissipating=False, max_intensity=100, point_radius=3)\n",
    "\n",
    "# Add layer to plot \n",
    "fig.add_layer(heat_layer)\n",
    "\n",
    "# Display figure\n",
    "fig"
   ]
  },
  {
   "cell_type": "markdown",
   "metadata": {},
   "source": [
    "### Create new DataFrame fitting weather criteria\n",
    "* Narrow down the cities to fit weather conditions.\n",
    "* Drop any rows will null values."
   ]
  },
  {
   "cell_type": "code",
   "execution_count": 50,
   "metadata": {},
   "outputs": [
    {
     "output_type": "error",
     "ename": "SyntaxError",
     "evalue": "invalid syntax (<ipython-input-50-687b8a5aceff>, line 14)",
     "traceback": [
      "\u001b[0;36m  File \u001b[0;32m\"<ipython-input-50-687b8a5aceff>\"\u001b[0;36m, line \u001b[0;32m14\u001b[0m\n\u001b[0;31m    '''\u001b[0m\n\u001b[0m     ^\u001b[0m\n\u001b[0;31mSyntaxError\u001b[0m\u001b[0;31m:\u001b[0m invalid syntax\n"
     ]
    }
   ],
   "source": [
    "# Narrow down to cities that only fit 3 ideal weather conditions\n",
    "#A max temperature lower than 80 degrees but higher than 70\n",
    "#\n",
    "# weather_df = weather_df.loc[weather_df[\"Max Temp\"] > 70] \n",
    "weather_df = weather_df.loc[(weather_df[\"Max Temp\"] < 80)\n",
    "#weather_df = weather_df.loc[(weather_df[\"Max Temp\"] < 80) & (weather_df[\"Max Temp\"] > 70)] \n",
    "# weather_df\n"
   ]
  },
  {
   "cell_type": "markdown",
   "metadata": {},
   "source": [
    "### Hotel Map\n",
    "* Store into variable named `hotel_df`.\n",
    "* Add a \"Hotel Name\" column to the DataFrame.\n",
    "* Set parameters to search for hotels with 5000 meters.\n",
    "* Hit the Google Places API for each city's coordinates.\n",
    "* Store the first Hotel result into the DataFrame.\n",
    "* Plot markers on top of the heatmap."
   ]
  },
  {
   "cell_type": "code",
   "execution_count": null,
   "metadata": {},
   "outputs": [],
   "source": []
  },
  {
   "cell_type": "code",
   "execution_count": null,
   "metadata": {},
   "outputs": [],
   "source": []
  },
  {
   "cell_type": "code",
   "execution_count": null,
   "metadata": {},
   "outputs": [],
   "source": [
    "# NOTE: Do not change any of the code in this cell\n",
    "\n",
    "# Using the template add the hotel marks to the heatmap\n",
    "info_box_template = \"\"\"\n",
    "<dl>\n",
    "<dt>Name</dt><dd>{Hotel Name}</dd>\n",
    "<dt>City</dt><dd>{City}</dd>\n",
    "<dt>Country</dt><dd>{Country}</dd>\n",
    "</dl>\n",
    "\"\"\"\n",
    "# Store the DataFrame Row\n",
    "# NOTE: be sure to update with your DataFrame name\n",
    "hotel_info = [info_box_template.format(**row) for index, row in hotel_df.iterrows()]\n",
    "locations = hotel_df[[\"Lat\", \"Lng\"]]"
   ]
  },
  {
   "cell_type": "code",
   "execution_count": null,
   "metadata": {},
   "outputs": [],
   "source": [
    "# Add marker layer ontop of heat map\n",
    "\n",
    "\n",
    "# Display figure\n"
   ]
  },
  {
   "cell_type": "code",
   "execution_count": null,
   "metadata": {},
   "outputs": [],
   "source": []
  }
 ],
 "metadata": {
  "kernelspec": {
   "name": "python385jvsc74a57bd0dca0ade3e726a953b501b15e8e990130d2b7799f14cfd9f4271676035ebe5511",
   "display_name": "Python 3.8.5 64-bit ('base': conda)"
  },
  "language_info": {
   "codemirror_mode": {
    "name": "ipython",
    "version": 3
   },
   "file_extension": ".py",
   "mimetype": "text/x-python",
   "name": "python",
   "nbconvert_exporter": "python",
   "pygments_lexer": "ipython3",
   "version": "3.8.5"
  },
  "latex_envs": {
   "LaTeX_envs_menu_present": true,
   "autoclose": false,
   "autocomplete": true,
   "bibliofile": "biblio.bib",
   "cite_by": "apalike",
   "current_citInitial": 1,
   "eqLabelWithNumbers": true,
   "eqNumInitial": 1,
   "hotkeys": {
    "equation": "Ctrl-E",
    "itemize": "Ctrl-I"
   },
   "labels_anchors": false,
   "latex_user_defs": false,
   "report_style_numbering": false,
   "user_envs_cfg": false
  }
 },
 "nbformat": 4,
 "nbformat_minor": 4
}