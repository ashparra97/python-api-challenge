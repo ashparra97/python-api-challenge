{
 "cells": [
  {
   "cell_type": "markdown",
   "metadata": {},
   "source": [
    "# VacationPy\n",
    "----\n",
    "\n",
    "#### Note\n",
    "* Keep an eye on your API usage. Use https://developers.google.com/maps/reporting/gmp-reporting as reference for how to monitor your usage and billing.\n",
    "\n",
    "* Instructions have been included for each segment. You do not have to follow them exactly, but they are included to help you think through the steps."
   ]
  },
  {
   "cell_type": "code",
   "execution_count": 1,
   "metadata": {},
   "outputs": [],
   "source": [
    "# Dependencies and Setup\n",
    "import matplotlib.pyplot as plt\n",
    "import pandas as pd\n",
    "import numpy as np\n",
    "import requests\n",
    "import gmaps\n",
    "import os\n",
    "\n",
    "# Import API key\n",
    "from g_api_keys import g_key"
   ]
  },
  {
   "cell_type": "markdown",
   "metadata": {},
   "source": [
    "### Store Part I results into DataFrame\n",
    "* Load the csv exported in Part I to a DataFrame"
   ]
  },
  {
   "cell_type": "code",
   "execution_count": 2,
   "metadata": {},
   "outputs": [
    {
     "output_type": "execute_result",
     "data": {
      "text/plain": [
       "            City      Lat       Lng  Max Temp  Humidity  Cloudiness  \\\n",
       "0         dikson  73.5069   80.5464     19.18        93         100   \n",
       "1          pevek  69.7008  170.3133     25.61        84          99   \n",
       "2     kaitangata -46.2817  169.8464     48.00        68         100   \n",
       "3        bintulu   3.1667  113.0333     87.80        70          40   \n",
       "4       souillac -20.5167   57.5167     77.00        88          75   \n",
       "..           ...      ...       ...       ...       ...         ...   \n",
       "565     berlevag  70.8578   29.0864     32.00        93          40   \n",
       "566  belaya gora  68.5333  146.4167     27.95        74          88   \n",
       "567      hualmay -11.0964  -77.6139     65.80        89          17   \n",
       "568       xinmin  41.9908  122.8253     75.99        17           0   \n",
       "569       ossora  59.2353  163.0719     33.12        98          98   \n",
       "\n",
       "     Wind Speed Country        Date  \n",
       "0         21.16      RU  1619408280  \n",
       "1          2.33      RU  1619408281  \n",
       "2          8.01      NZ  1619408697  \n",
       "3          2.30      MY  1619408698  \n",
       "4         14.97      MU  1619408699  \n",
       "..          ...     ...         ...  \n",
       "565       11.50      NO  1619409064  \n",
       "566       11.43      RU  1619409065  \n",
       "567        8.03      PE  1619409065  \n",
       "568       13.42      CN  1619409066  \n",
       "569        1.68      RU  1619409067  \n",
       "\n",
       "[570 rows x 9 columns]"
      ],
      "text/html": "<div>\n<style scoped>\n    .dataframe tbody tr th:only-of-type {\n        vertical-align: middle;\n    }\n\n    .dataframe tbody tr th {\n        vertical-align: top;\n    }\n\n    .dataframe thead th {\n        text-align: right;\n    }\n</style>\n<table border=\"1\" class=\"dataframe\">\n  <thead>\n    <tr style=\"text-align: right;\">\n      <th></th>\n      <th>City</th>\n      <th>Lat</th>\n      <th>Lng</th>\n      <th>Max Temp</th>\n      <th>Humidity</th>\n      <th>Cloudiness</th>\n      <th>Wind Speed</th>\n      <th>Country</th>\n      <th>Date</th>\n    </tr>\n  </thead>\n  <tbody>\n    <tr>\n      <th>0</th>\n      <td>dikson</td>\n      <td>73.5069</td>\n      <td>80.5464</td>\n      <td>19.18</td>\n      <td>93</td>\n      <td>100</td>\n      <td>21.16</td>\n      <td>RU</td>\n      <td>1619408280</td>\n    </tr>\n    <tr>\n      <th>1</th>\n      <td>pevek</td>\n      <td>69.7008</td>\n      <td>170.3133</td>\n      <td>25.61</td>\n      <td>84</td>\n      <td>99</td>\n      <td>2.33</td>\n      <td>RU</td>\n      <td>1619408281</td>\n    </tr>\n    <tr>\n      <th>2</th>\n      <td>kaitangata</td>\n      <td>-46.2817</td>\n      <td>169.8464</td>\n      <td>48.00</td>\n      <td>68</td>\n      <td>100</td>\n      <td>8.01</td>\n      <td>NZ</td>\n      <td>1619408697</td>\n    </tr>\n    <tr>\n      <th>3</th>\n      <td>bintulu</td>\n      <td>3.1667</td>\n      <td>113.0333</td>\n      <td>87.80</td>\n      <td>70</td>\n      <td>40</td>\n      <td>2.30</td>\n      <td>MY</td>\n      <td>1619408698</td>\n    </tr>\n    <tr>\n      <th>4</th>\n      <td>souillac</td>\n      <td>-20.5167</td>\n      <td>57.5167</td>\n      <td>77.00</td>\n      <td>88</td>\n      <td>75</td>\n      <td>14.97</td>\n      <td>MU</td>\n      <td>1619408699</td>\n    </tr>\n    <tr>\n      <th>...</th>\n      <td>...</td>\n      <td>...</td>\n      <td>...</td>\n      <td>...</td>\n      <td>...</td>\n      <td>...</td>\n      <td>...</td>\n      <td>...</td>\n      <td>...</td>\n    </tr>\n    <tr>\n      <th>565</th>\n      <td>berlevag</td>\n      <td>70.8578</td>\n      <td>29.0864</td>\n      <td>32.00</td>\n      <td>93</td>\n      <td>40</td>\n      <td>11.50</td>\n      <td>NO</td>\n      <td>1619409064</td>\n    </tr>\n    <tr>\n      <th>566</th>\n      <td>belaya gora</td>\n      <td>68.5333</td>\n      <td>146.4167</td>\n      <td>27.95</td>\n      <td>74</td>\n      <td>88</td>\n      <td>11.43</td>\n      <td>RU</td>\n      <td>1619409065</td>\n    </tr>\n    <tr>\n      <th>567</th>\n      <td>hualmay</td>\n      <td>-11.0964</td>\n      <td>-77.6139</td>\n      <td>65.80</td>\n      <td>89</td>\n      <td>17</td>\n      <td>8.03</td>\n      <td>PE</td>\n      <td>1619409065</td>\n    </tr>\n    <tr>\n      <th>568</th>\n      <td>xinmin</td>\n      <td>41.9908</td>\n      <td>122.8253</td>\n      <td>75.99</td>\n      <td>17</td>\n      <td>0</td>\n      <td>13.42</td>\n      <td>CN</td>\n      <td>1619409066</td>\n    </tr>\n    <tr>\n      <th>569</th>\n      <td>ossora</td>\n      <td>59.2353</td>\n      <td>163.0719</td>\n      <td>33.12</td>\n      <td>98</td>\n      <td>98</td>\n      <td>1.68</td>\n      <td>RU</td>\n      <td>1619409067</td>\n    </tr>\n  </tbody>\n</table>\n<p>570 rows × 9 columns</p>\n</div>"
     },
     "metadata": {},
     "execution_count": 2
    }
   ],
   "source": [
    "# Load CSV file\n",
    "csv_file = \"/Users/ashleypatricia/Documents/GitHub/python-api-challenge/WeatherPy/city data.csv\"\n",
    "\n",
    "# Assign dataframe \n",
    "weather_df = pd.read_csv(csv_file)\n",
    "weather_df"
   ]
  },
  {
   "cell_type": "markdown",
   "metadata": {},
   "source": [
    "### Humidity Heatmap\n",
    "* Configure gmaps.\n",
    "* Use the Lat and Lng as locations and Humidity as the weight.\n",
    "* Add Heatmap layer to map."
   ]
  },
  {
   "cell_type": "code",
   "execution_count": 3,
   "metadata": {},
   "outputs": [],
   "source": [
    "#Configure gmaps\n",
    "gmaps.configure(api_key=g_key)"
   ]
  },
  {
   "cell_type": "code",
   "execution_count": 4,
   "metadata": {},
   "outputs": [
    {
     "output_type": "display_data",
     "data": {
      "text/plain": "Figure(layout=FigureLayout(height='420px'))",
      "application/vnd.jupyter.widget-view+json": {
       "version_major": 2,
       "version_minor": 0,
       "model_id": "014575d701a042519c6cea590f2ccadd"
      }
     },
     "metadata": {}
    }
   ],
   "source": [
    "# Use the Lat and Lng as locations \n",
    "locations = weather_df[[\"Lat\", \"Lng\"]]\n",
    "\n",
    "# Use humidity as weight \n",
    "humidity = weather_df[\"Humidity\"].astype(float)\n",
    "\n",
    "# Plot heatmap\n",
    "fig = gmaps.figure()\n",
    "\n",
    "# Add heat layer \n",
    "heat_layer = gmaps.heatmap_layer(locations, weights=humidity, dissipating=False, max_intensity=100, point_radius=3)\n",
    "\n",
    "# Add layer to plot \n",
    "fig.add_layer(heat_layer)\n",
    "\n",
    "# Display figure\n",
    "fig"
   ]
  },
  {
   "cell_type": "markdown",
   "metadata": {},
   "source": [
    "### Create new DataFrame fitting weather criteria\n",
    "* Narrow down the cities to fit weather conditions.\n",
    "* Drop any rows will null values."
   ]
  },
  {
   "cell_type": "code",
   "execution_count": 6,
   "metadata": {},
   "outputs": [
    {
     "output_type": "execute_result",
     "data": {
      "text/plain": [
       "           City      Lat       Lng  Max Temp  Humidity  Cloudiness  \\\n",
       "140      kibala   9.1104   18.3463     75.20        78           0   \n",
       "224    umm lajj  25.0213   37.2685     79.95        53           0   \n",
       "239      beloha -25.1667   45.0500     70.66        74           0   \n",
       "320     djougou   9.7085    1.6660     78.80        78           0   \n",
       "372  rock sound  24.9000  -76.2000     78.19        83           0   \n",
       "394        atar  20.5169  -13.0499     75.58        22           0   \n",
       "420      ndioum  16.5129  -14.6471     73.40        60           0   \n",
       "465   ulladulla -35.3500  150.4667     71.60        37           0   \n",
       "467       pauri  30.1500   78.7833     75.54        19           0   \n",
       "469     iquitos  -3.7481  -73.2472     78.80        89           0   \n",
       "476      namibe -15.1961   12.1522     74.82        70           0   \n",
       "483       ginda  30.6945   78.4932     74.55        15           0   \n",
       "484      quepos   9.4236  -84.1652     73.40        68           0   \n",
       "538        dali  25.7000  100.1833     78.31        19           0   \n",
       "561    flinders -34.5833  150.8552     72.00        37           0   \n",
       "\n",
       "     Wind Speed Country        Date  \n",
       "140        5.61      TD  1619408783  \n",
       "224        5.48      SA  1619408450  \n",
       "239        5.61      MG  1619408261  \n",
       "320        4.61      BJ  1619408527  \n",
       "372        8.70      BS  1619408579  \n",
       "394        6.76      MR  1619408593  \n",
       "420        4.61      SN  1619408618  \n",
       "465        4.61      AU  1619408987  \n",
       "467        1.30      IN  1619408988  \n",
       "469        6.91      PE  1619408989  \n",
       "476        9.24      AO  1619408767  \n",
       "483        4.36      IN  1619408997  \n",
       "484        6.91      CR  1619408753  \n",
       "538        6.24      CN  1619408942  \n",
       "561        4.61      AU  1619409061  "
      ],
      "text/html": "<div>\n<style scoped>\n    .dataframe tbody tr th:only-of-type {\n        vertical-align: middle;\n    }\n\n    .dataframe tbody tr th {\n        vertical-align: top;\n    }\n\n    .dataframe thead th {\n        text-align: right;\n    }\n</style>\n<table border=\"1\" class=\"dataframe\">\n  <thead>\n    <tr style=\"text-align: right;\">\n      <th></th>\n      <th>City</th>\n      <th>Lat</th>\n      <th>Lng</th>\n      <th>Max Temp</th>\n      <th>Humidity</th>\n      <th>Cloudiness</th>\n      <th>Wind Speed</th>\n      <th>Country</th>\n      <th>Date</th>\n    </tr>\n  </thead>\n  <tbody>\n    <tr>\n      <th>140</th>\n      <td>kibala</td>\n      <td>9.1104</td>\n      <td>18.3463</td>\n      <td>75.20</td>\n      <td>78</td>\n      <td>0</td>\n      <td>5.61</td>\n      <td>TD</td>\n      <td>1619408783</td>\n    </tr>\n    <tr>\n      <th>224</th>\n      <td>umm lajj</td>\n      <td>25.0213</td>\n      <td>37.2685</td>\n      <td>79.95</td>\n      <td>53</td>\n      <td>0</td>\n      <td>5.48</td>\n      <td>SA</td>\n      <td>1619408450</td>\n    </tr>\n    <tr>\n      <th>239</th>\n      <td>beloha</td>\n      <td>-25.1667</td>\n      <td>45.0500</td>\n      <td>70.66</td>\n      <td>74</td>\n      <td>0</td>\n      <td>5.61</td>\n      <td>MG</td>\n      <td>1619408261</td>\n    </tr>\n    <tr>\n      <th>320</th>\n      <td>djougou</td>\n      <td>9.7085</td>\n      <td>1.6660</td>\n      <td>78.80</td>\n      <td>78</td>\n      <td>0</td>\n      <td>4.61</td>\n      <td>BJ</td>\n      <td>1619408527</td>\n    </tr>\n    <tr>\n      <th>372</th>\n      <td>rock sound</td>\n      <td>24.9000</td>\n      <td>-76.2000</td>\n      <td>78.19</td>\n      <td>83</td>\n      <td>0</td>\n      <td>8.70</td>\n      <td>BS</td>\n      <td>1619408579</td>\n    </tr>\n    <tr>\n      <th>394</th>\n      <td>atar</td>\n      <td>20.5169</td>\n      <td>-13.0499</td>\n      <td>75.58</td>\n      <td>22</td>\n      <td>0</td>\n      <td>6.76</td>\n      <td>MR</td>\n      <td>1619408593</td>\n    </tr>\n    <tr>\n      <th>420</th>\n      <td>ndioum</td>\n      <td>16.5129</td>\n      <td>-14.6471</td>\n      <td>73.40</td>\n      <td>60</td>\n      <td>0</td>\n      <td>4.61</td>\n      <td>SN</td>\n      <td>1619408618</td>\n    </tr>\n    <tr>\n      <th>465</th>\n      <td>ulladulla</td>\n      <td>-35.3500</td>\n      <td>150.4667</td>\n      <td>71.60</td>\n      <td>37</td>\n      <td>0</td>\n      <td>4.61</td>\n      <td>AU</td>\n      <td>1619408987</td>\n    </tr>\n    <tr>\n      <th>467</th>\n      <td>pauri</td>\n      <td>30.1500</td>\n      <td>78.7833</td>\n      <td>75.54</td>\n      <td>19</td>\n      <td>0</td>\n      <td>1.30</td>\n      <td>IN</td>\n      <td>1619408988</td>\n    </tr>\n    <tr>\n      <th>469</th>\n      <td>iquitos</td>\n      <td>-3.7481</td>\n      <td>-73.2472</td>\n      <td>78.80</td>\n      <td>89</td>\n      <td>0</td>\n      <td>6.91</td>\n      <td>PE</td>\n      <td>1619408989</td>\n    </tr>\n    <tr>\n      <th>476</th>\n      <td>namibe</td>\n      <td>-15.1961</td>\n      <td>12.1522</td>\n      <td>74.82</td>\n      <td>70</td>\n      <td>0</td>\n      <td>9.24</td>\n      <td>AO</td>\n      <td>1619408767</td>\n    </tr>\n    <tr>\n      <th>483</th>\n      <td>ginda</td>\n      <td>30.6945</td>\n      <td>78.4932</td>\n      <td>74.55</td>\n      <td>15</td>\n      <td>0</td>\n      <td>4.36</td>\n      <td>IN</td>\n      <td>1619408997</td>\n    </tr>\n    <tr>\n      <th>484</th>\n      <td>quepos</td>\n      <td>9.4236</td>\n      <td>-84.1652</td>\n      <td>73.40</td>\n      <td>68</td>\n      <td>0</td>\n      <td>6.91</td>\n      <td>CR</td>\n      <td>1619408753</td>\n    </tr>\n    <tr>\n      <th>538</th>\n      <td>dali</td>\n      <td>25.7000</td>\n      <td>100.1833</td>\n      <td>78.31</td>\n      <td>19</td>\n      <td>0</td>\n      <td>6.24</td>\n      <td>CN</td>\n      <td>1619408942</td>\n    </tr>\n    <tr>\n      <th>561</th>\n      <td>flinders</td>\n      <td>-34.5833</td>\n      <td>150.8552</td>\n      <td>72.00</td>\n      <td>37</td>\n      <td>0</td>\n      <td>4.61</td>\n      <td>AU</td>\n      <td>1619409061</td>\n    </tr>\n  </tbody>\n</table>\n</div>"
     },
     "metadata": {},
     "execution_count": 6
    }
   ],
   "source": [
    "#### Narrow down to cities that only fit 3 ideal weather conditions\n",
    "\n",
    "#A max temperature lower than 80 degrees but higher than 70\n",
    "temp_df = weather_df.loc[(weather_df[\"Max Temp\"] < 80) & (weather_df[\"Max Temp\"] > 70)] \n",
    "temp_df\n",
    "\n",
    "# Wind speed less than 10 mph.\n",
    "ws_df = temp_df.loc[temp_df[\"Wind Speed\"] < 10]\n",
    "ws_df\n",
    "\n",
    "# Zero cloudiness\n",
    "cloudiness_df = ws_df.loc[ws_df[\"Cloudiness\"] == 0]\n",
    "cloudiness_df"
   ]
  },
  {
   "cell_type": "markdown",
   "metadata": {},
   "source": [
    "### Hotel Map\n",
    "* Store into variable named `hotel_df`.\n",
    "* Add a \"Hotel Name\" column to the DataFrame.\n",
    "* Set parameters to search for hotels with 5000 meters.\n",
    "* Hit the Google Places API for each city's coordinates.\n",
    "* Store the first Hotel result into the DataFrame.\n",
    "* Plot markers on top of the heatmap."
   ]
  },
  {
   "cell_type": "code",
   "execution_count": 8,
   "metadata": {},
   "outputs": [
    {
     "output_type": "execute_result",
     "data": {
      "text/plain": [
       "           City Country      Lat       Lng Hotel Name\n",
       "140      kibala      TD   9.1104   18.3463           \n",
       "224    umm lajj      SA  25.0213   37.2685           \n",
       "239      beloha      MG -25.1667   45.0500           \n",
       "320     djougou      BJ   9.7085    1.6660           \n",
       "372  rock sound      BS  24.9000  -76.2000           \n",
       "394        atar      MR  20.5169  -13.0499           \n",
       "420      ndioum      SN  16.5129  -14.6471           \n",
       "465   ulladulla      AU -35.3500  150.4667           \n",
       "467       pauri      IN  30.1500   78.7833           \n",
       "469     iquitos      PE  -3.7481  -73.2472           \n",
       "476      namibe      AO -15.1961   12.1522           \n",
       "483       ginda      IN  30.6945   78.4932           \n",
       "484      quepos      CR   9.4236  -84.1652           \n",
       "538        dali      CN  25.7000  100.1833           \n",
       "561    flinders      AU -34.5833  150.8552           "
      ],
      "text/html": "<div>\n<style scoped>\n    .dataframe tbody tr th:only-of-type {\n        vertical-align: middle;\n    }\n\n    .dataframe tbody tr th {\n        vertical-align: top;\n    }\n\n    .dataframe thead th {\n        text-align: right;\n    }\n</style>\n<table border=\"1\" class=\"dataframe\">\n  <thead>\n    <tr style=\"text-align: right;\">\n      <th></th>\n      <th>City</th>\n      <th>Country</th>\n      <th>Lat</th>\n      <th>Lng</th>\n      <th>Hotel Name</th>\n    </tr>\n  </thead>\n  <tbody>\n    <tr>\n      <th>140</th>\n      <td>kibala</td>\n      <td>TD</td>\n      <td>9.1104</td>\n      <td>18.3463</td>\n      <td></td>\n    </tr>\n    <tr>\n      <th>224</th>\n      <td>umm lajj</td>\n      <td>SA</td>\n      <td>25.0213</td>\n      <td>37.2685</td>\n      <td></td>\n    </tr>\n    <tr>\n      <th>239</th>\n      <td>beloha</td>\n      <td>MG</td>\n      <td>-25.1667</td>\n      <td>45.0500</td>\n      <td></td>\n    </tr>\n    <tr>\n      <th>320</th>\n      <td>djougou</td>\n      <td>BJ</td>\n      <td>9.7085</td>\n      <td>1.6660</td>\n      <td></td>\n    </tr>\n    <tr>\n      <th>372</th>\n      <td>rock sound</td>\n      <td>BS</td>\n      <td>24.9000</td>\n      <td>-76.2000</td>\n      <td></td>\n    </tr>\n    <tr>\n      <th>394</th>\n      <td>atar</td>\n      <td>MR</td>\n      <td>20.5169</td>\n      <td>-13.0499</td>\n      <td></td>\n    </tr>\n    <tr>\n      <th>420</th>\n      <td>ndioum</td>\n      <td>SN</td>\n      <td>16.5129</td>\n      <td>-14.6471</td>\n      <td></td>\n    </tr>\n    <tr>\n      <th>465</th>\n      <td>ulladulla</td>\n      <td>AU</td>\n      <td>-35.3500</td>\n      <td>150.4667</td>\n      <td></td>\n    </tr>\n    <tr>\n      <th>467</th>\n      <td>pauri</td>\n      <td>IN</td>\n      <td>30.1500</td>\n      <td>78.7833</td>\n      <td></td>\n    </tr>\n    <tr>\n      <th>469</th>\n      <td>iquitos</td>\n      <td>PE</td>\n      <td>-3.7481</td>\n      <td>-73.2472</td>\n      <td></td>\n    </tr>\n    <tr>\n      <th>476</th>\n      <td>namibe</td>\n      <td>AO</td>\n      <td>-15.1961</td>\n      <td>12.1522</td>\n      <td></td>\n    </tr>\n    <tr>\n      <th>483</th>\n      <td>ginda</td>\n      <td>IN</td>\n      <td>30.6945</td>\n      <td>78.4932</td>\n      <td></td>\n    </tr>\n    <tr>\n      <th>484</th>\n      <td>quepos</td>\n      <td>CR</td>\n      <td>9.4236</td>\n      <td>-84.1652</td>\n      <td></td>\n    </tr>\n    <tr>\n      <th>538</th>\n      <td>dali</td>\n      <td>CN</td>\n      <td>25.7000</td>\n      <td>100.1833</td>\n      <td></td>\n    </tr>\n    <tr>\n      <th>561</th>\n      <td>flinders</td>\n      <td>AU</td>\n      <td>-34.5833</td>\n      <td>150.8552</td>\n      <td></td>\n    </tr>\n  </tbody>\n</table>\n</div>"
     },
     "metadata": {},
     "execution_count": 8
    }
   ],
   "source": [
    "# Clean up dataframe and exclude columns with weather condition data\n",
    "hotel_df = pd.DataFrame(cloudiness_df, columns=[\"City\", \"Country\", \"Lat\", \"Lng\"])\n",
    "\n",
    "# Add new column called \"Hotel Name\"\n",
    "hotel_df[\"Hotel Name\"] = \" \"\n",
    "hotel_df"
   ]
  },
  {
   "cell_type": "code",
   "execution_count": 13,
   "metadata": {},
   "outputs": [
    {
     "output_type": "execute_result",
     "data": {
      "text/plain": [
       "           City Country      Lat       Lng  \\\n",
       "140      kibala      TD   9.1104   18.3463   \n",
       "224    umm lajj      SA  25.0213   37.2685   \n",
       "239      beloha      MG -25.1667   45.0500   \n",
       "320     djougou      BJ   9.7085    1.6660   \n",
       "372  rock sound      BS  24.9000  -76.2000   \n",
       "394        atar      MR  20.5169  -13.0499   \n",
       "420      ndioum      SN  16.5129  -14.6471   \n",
       "465   ulladulla      AU -35.3500  150.4667   \n",
       "467       pauri      IN  30.1500   78.7833   \n",
       "469     iquitos      PE  -3.7481  -73.2472   \n",
       "476      namibe      AO -15.1961   12.1522   \n",
       "483       ginda      IN  30.6945   78.4932   \n",
       "484      quepos      CR   9.4236  -84.1652   \n",
       "538        dali      CN  25.7000  100.1833   \n",
       "561    flinders      AU -34.5833  150.8552   \n",
       "\n",
       "                                       Hotel Name  \n",
       "140                                  hotel safari  \n",
       "224                              HP Red Sea Hotel  \n",
       "239                                    None Found  \n",
       "320                                  Motel Du Lac  \n",
       "372                     Pink Sandy Beaches Villas  \n",
       "394                                    Bab Sahara  \n",
       "420                                Mbathior Hôtel  \n",
       "465  Mollymook Shores Motel and Conference Centre  \n",
       "467                              Hotel Sun n Snow  \n",
       "469                  DoubleTree by Hilton Iquitos  \n",
       "476                        Hotel Chik Chik Namibe  \n",
       "483                             Hotel Maneri Lake  \n",
       "484                      Hotel Makanda by The Sea  \n",
       "538                                 Sunyata Hotel  \n",
       "561                          Lakeview Hotel Motel  "
      ],
      "text/html": "<div>\n<style scoped>\n    .dataframe tbody tr th:only-of-type {\n        vertical-align: middle;\n    }\n\n    .dataframe tbody tr th {\n        vertical-align: top;\n    }\n\n    .dataframe thead th {\n        text-align: right;\n    }\n</style>\n<table border=\"1\" class=\"dataframe\">\n  <thead>\n    <tr style=\"text-align: right;\">\n      <th></th>\n      <th>City</th>\n      <th>Country</th>\n      <th>Lat</th>\n      <th>Lng</th>\n      <th>Hotel Name</th>\n    </tr>\n  </thead>\n  <tbody>\n    <tr>\n      <th>140</th>\n      <td>kibala</td>\n      <td>TD</td>\n      <td>9.1104</td>\n      <td>18.3463</td>\n      <td>hotel safari</td>\n    </tr>\n    <tr>\n      <th>224</th>\n      <td>umm lajj</td>\n      <td>SA</td>\n      <td>25.0213</td>\n      <td>37.2685</td>\n      <td>HP Red Sea Hotel</td>\n    </tr>\n    <tr>\n      <th>239</th>\n      <td>beloha</td>\n      <td>MG</td>\n      <td>-25.1667</td>\n      <td>45.0500</td>\n      <td>None Found</td>\n    </tr>\n    <tr>\n      <th>320</th>\n      <td>djougou</td>\n      <td>BJ</td>\n      <td>9.7085</td>\n      <td>1.6660</td>\n      <td>Motel Du Lac</td>\n    </tr>\n    <tr>\n      <th>372</th>\n      <td>rock sound</td>\n      <td>BS</td>\n      <td>24.9000</td>\n      <td>-76.2000</td>\n      <td>Pink Sandy Beaches Villas</td>\n    </tr>\n    <tr>\n      <th>394</th>\n      <td>atar</td>\n      <td>MR</td>\n      <td>20.5169</td>\n      <td>-13.0499</td>\n      <td>Bab Sahara</td>\n    </tr>\n    <tr>\n      <th>420</th>\n      <td>ndioum</td>\n      <td>SN</td>\n      <td>16.5129</td>\n      <td>-14.6471</td>\n      <td>Mbathior Hôtel</td>\n    </tr>\n    <tr>\n      <th>465</th>\n      <td>ulladulla</td>\n      <td>AU</td>\n      <td>-35.3500</td>\n      <td>150.4667</td>\n      <td>Mollymook Shores Motel and Conference Centre</td>\n    </tr>\n    <tr>\n      <th>467</th>\n      <td>pauri</td>\n      <td>IN</td>\n      <td>30.1500</td>\n      <td>78.7833</td>\n      <td>Hotel Sun n Snow</td>\n    </tr>\n    <tr>\n      <th>469</th>\n      <td>iquitos</td>\n      <td>PE</td>\n      <td>-3.7481</td>\n      <td>-73.2472</td>\n      <td>DoubleTree by Hilton Iquitos</td>\n    </tr>\n    <tr>\n      <th>476</th>\n      <td>namibe</td>\n      <td>AO</td>\n      <td>-15.1961</td>\n      <td>12.1522</td>\n      <td>Hotel Chik Chik Namibe</td>\n    </tr>\n    <tr>\n      <th>483</th>\n      <td>ginda</td>\n      <td>IN</td>\n      <td>30.6945</td>\n      <td>78.4932</td>\n      <td>Hotel Maneri Lake</td>\n    </tr>\n    <tr>\n      <th>484</th>\n      <td>quepos</td>\n      <td>CR</td>\n      <td>9.4236</td>\n      <td>-84.1652</td>\n      <td>Hotel Makanda by The Sea</td>\n    </tr>\n    <tr>\n      <th>538</th>\n      <td>dali</td>\n      <td>CN</td>\n      <td>25.7000</td>\n      <td>100.1833</td>\n      <td>Sunyata Hotel</td>\n    </tr>\n    <tr>\n      <th>561</th>\n      <td>flinders</td>\n      <td>AU</td>\n      <td>-34.5833</td>\n      <td>150.8552</td>\n      <td>Lakeview Hotel Motel</td>\n    </tr>\n  </tbody>\n</table>\n</div>"
     },
     "metadata": {},
     "execution_count": 13
    }
   ],
   "source": [
    "# Set up empty list to hold hotel names \n",
    "hotelnames = []\n",
    "\n",
    "# Create for loop\n",
    "for index, row in hotel_df.iterrows(): \n",
    "    lat = row[\"Lat\"]\n",
    "    lng = row[\"Lng\"]\n",
    "    name = row[\"City\"]\n",
    "    county = row[\"Country\"]\n",
    "\n",
    "    # Set parameters to search for hotels with 5000 meters.\n",
    "    target_coordinates = f\"{lat}, {lng}\"\n",
    "    target_search = \"hotel\"\n",
    "    target_radius = 5000\n",
    "    target_type = \"hotel\"\n",
    "\n",
    "    params = {\n",
    "        \"location\": target_coordinates, \n",
    "        \"keyword\": target_search, \n",
    "        \"radius\": target_radius,\n",
    "        \"type\": target_type, \n",
    "        \"key\": g_key\n",
    "        }\n",
    "    # Search Google Places API for each city's coordinates\n",
    "    base_url = \"https://maps.googleapis.com/maps/api/place/nearbysearch/json\"\n",
    "    response = requests.get(base_url, params=params)\n",
    "    response = response.json()\n",
    "\n",
    "    # Append names of hotels for each city \n",
    "    try: \n",
    "        hotelnames.append(response[\"results\"][0]['name'])\n",
    "\n",
    "    # If there is not a result, print \"None Found\"\n",
    "    except (KeyError, IndexError): \n",
    "        hotelnames.append(\"None Found\")\n",
    "\n",
    "# Store the first hotel result into the data frame for each city \n",
    "hotel_df[\"Hotel Name\"] = hotelnames\n",
    "hotel_df"
   ]
  },
  {
   "cell_type": "code",
   "execution_count": 14,
   "metadata": {},
   "outputs": [],
   "source": [
    "# NOTE: Do not change any of the code in this cell\n",
    "\n",
    "# Using the template add the hotel marks to the heatmap\n",
    "info_box_template = \"\"\"\n",
    "<dl>\n",
    "<dt>Name</dt><dd>{Hotel Name}</dd>\n",
    "<dt>City</dt><dd>{City}</dd>\n",
    "<dt>Country</dt><dd>{Country}</dd>\n",
    "</dl>\n",
    "\"\"\"\n",
    "# Store the DataFrame Row\n",
    "# NOTE: be sure to update with your DataFrame name\n",
    "hotel_info = [info_box_template.format(**row) for index, row in hotel_df.iterrows()]\n",
    "locations = hotel_df[[\"Lat\", \"Lng\"]]"
   ]
  },
  {
   "cell_type": "code",
   "execution_count": 15,
   "metadata": {},
   "outputs": [
    {
     "output_type": "display_data",
     "data": {
      "text/plain": "Figure(layout=FigureLayout(height='420px'))",
      "application/vnd.jupyter.widget-view+json": {
       "version_major": 2,
       "version_minor": 0,
       "model_id": "014575d701a042519c6cea590f2ccadd"
      }
     },
     "metadata": {}
    }
   ],
   "source": [
    "markers = gmaps.marker_layer(locations)\n",
    "fig.add_layer(markers)\n",
    "fig"
   ]
  }
 ],
 "metadata": {
  "kernelspec": {
   "name": "python385jvsc74a57bd0dca0ade3e726a953b501b15e8e990130d2b7799f14cfd9f4271676035ebe5511",
   "display_name": "Python 3.8.5 64-bit ('base': conda)"
  },
  "language_info": {
   "codemirror_mode": {
    "name": "ipython",
    "version": 3
   },
   "file_extension": ".py",
   "mimetype": "text/x-python",
   "name": "python",
   "nbconvert_exporter": "python",
   "pygments_lexer": "ipython3",
   "version": "3.8.5"
  },
  "latex_envs": {
   "LaTeX_envs_menu_present": true,
   "autoclose": false,
   "autocomplete": true,
   "bibliofile": "biblio.bib",
   "cite_by": "apalike",
   "current_citInitial": 1,
   "eqLabelWithNumbers": true,
   "eqNumInitial": 1,
   "hotkeys": {
    "equation": "Ctrl-E",
    "itemize": "Ctrl-I"
   },
   "labels_anchors": false,
   "latex_user_defs": false,
   "report_style_numbering": false,
   "user_envs_cfg": false
  }
 },
 "nbformat": 4,
 "nbformat_minor": 4
}